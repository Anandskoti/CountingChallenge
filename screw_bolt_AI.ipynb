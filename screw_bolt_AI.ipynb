{
 "cells": [
  {
   "cell_type": "code",
   "execution_count": 2,
   "id": "afabfa06",
   "metadata": {},
   "outputs": [],
   "source": [
    "from ultralytics import YOLO"
   ]
  },
  {
   "cell_type": "code",
   "execution_count": 3,
   "id": "9af3cbe9",
   "metadata": {},
   "outputs": [
    {
     "data": {
      "text/plain": [
       "'8.2.70'"
      ]
     },
     "execution_count": 3,
     "metadata": {},
     "output_type": "execute_result"
    }
   ],
   "source": [
    "import ultralytics\n",
    "ultralytics.__version__"
   ]
  },
  {
   "cell_type": "code",
   "execution_count": 4,
   "id": "bdebe32c",
   "metadata": {},
   "outputs": [
    {
     "data": {
      "text/plain": [
       "'2.4.0'"
      ]
     },
     "execution_count": 4,
     "metadata": {},
     "output_type": "execute_result"
    }
   ],
   "source": [
    "import torch\n",
    "torch.__version__"
   ]
  },
  {
   "cell_type": "code",
   "execution_count": 5,
   "id": "1b4bfca9",
   "metadata": {},
   "outputs": [],
   "source": [
    "import time\n",
    "import cv2\n",
    "import torch.backends.cudnn as cudnn\n",
    "from PIL import Image\n",
    "import colorsys\n",
    "import numpy as np"
   ]
  },
  {
   "cell_type": "code",
   "execution_count": 6,
   "id": "8fe3bf8b",
   "metadata": {},
   "outputs": [
    {
     "name": "stdout",
     "output_type": "stream",
     "text": [
      "PRO TIP 💡 Replace 'model=yolov5n.pt' with new 'model=yolov5nu.pt'.\n",
      "YOLOv5 'u' models are trained with https://github.com/ultralytics/ultralytics and feature improved performance vs standard YOLOv5 models trained with https://github.com/ultralytics/yolov5.\n",
      "\n"
     ]
    }
   ],
   "source": [
    "model = YOLO(\"yolov5n.pt\")"
   ]
  },
  {
   "cell_type": "code",
   "execution_count": 7,
   "id": "fd2c7781",
   "metadata": {},
   "outputs": [],
   "source": [
    "import numpy as np"
   ]
  },
  {
   "cell_type": "code",
   "execution_count": 8,
   "id": "34079064",
   "metadata": {},
   "outputs": [],
   "source": [
    "import cv2\n",
    "from ultralytics import YOLO\n",
    "from ultralytics.utils.plotting import Annotator\n",
    "import cvzone\n",
    "from collections import Counter \n"
   ]
  },
  {
   "cell_type": "code",
   "execution_count": 9,
   "id": "104cfd24",
   "metadata": {},
   "outputs": [],
   "source": [
    "\n",
    "\n",
    "my_file = open(\"/Users/anandkoti/Documents/screw.txt\", \"r\")\n",
    "data = my_file.read()\n",
    "class_list = data.split(\"\\n\")\n"
   ]
  },
  {
   "cell_type": "code",
   "execution_count": 10,
   "id": "c477d502",
   "metadata": {},
   "outputs": [],
   "source": [
    "def count_objects_in_image(class_list,img):\n",
    "    counter = Counter(class_list)\n",
    "    print(\"Object Count in Image:\")\n",
    "    print(counter)\n",
    "    n=0\n",
    "    for obj, count in counter.items():\n",
    "        print(f\"{obj}: {count}\")\n",
    "        cvzone.putTextRect(img, f'{obj}', (50, 50), 1, 1,colorT=(100,100,100),colorR=(0,0,0),border=2)\n",
    "        cvzone.putTextRect(img, f'{count}', (150, 50), 1, 1)\n",
    "\n",
    "        \n",
    "    "
   ]
  },
  {
   "cell_type": "code",
   "execution_count": null,
   "id": "acf1e053",
   "metadata": {},
   "outputs": [
    {
     "name": "stdout",
     "output_type": "stream",
     "text": [
      "Object Count in Image:\n",
      "Counter({'1-screw': 1, '2-bolts': 1})\n",
      "1-screw: 1\n",
      "2-bolts: 1\n"
     ]
    }
   ],
   "source": [
    "\n",
    "img = cv2.imread('/Users/anandkoti/Downloads/ScrewAndBolt_20240713/20240713_194621.jpg')\n",
    "#img = cv2.resize(img, (1020, 500))\n",
    "#object_classes = object(img)\n",
    "count_objects_in_image(class_list,img)\n",
    "cv2.waitKey(0)\n",
    "cv2.destroyAllWindows()\n"
   ]
  },
  {
   "cell_type": "code",
   "execution_count": null,
   "id": "a48a5d1e",
   "metadata": {},
   "outputs": [],
   "source": []
  }
 ],
 "metadata": {
  "kernelspec": {
   "display_name": "Python 3 (ipykernel)",
   "language": "python",
   "name": "python3"
  },
  "language_info": {
   "codemirror_mode": {
    "name": "ipython",
    "version": 3
   },
   "file_extension": ".py",
   "mimetype": "text/x-python",
   "name": "python",
   "nbconvert_exporter": "python",
   "pygments_lexer": "ipython3",
   "version": "3.8.16"
  }
 },
 "nbformat": 4,
 "nbformat_minor": 5
}
